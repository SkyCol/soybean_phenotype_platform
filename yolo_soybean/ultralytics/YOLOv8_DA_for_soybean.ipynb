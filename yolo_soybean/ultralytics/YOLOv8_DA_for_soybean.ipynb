{
 "cells": [
  {
   "cell_type": "code",
   "execution_count": 1,
   "metadata": {},
   "outputs": [],
   "source": [
    "from DA_yolov8 import *"
   ]
  },
  {
   "cell_type": "code",
   "execution_count": 2,
   "metadata": {},
   "outputs": [
    {
     "name": "stdout",
     "output_type": "stream",
     "text": [
      "['/hy-tmp/yolo_soybean/ultralytics', '/usr/local/miniconda3/lib/python38.zip', '/usr/local/miniconda3/lib/python3.8', '/usr/local/miniconda3/lib/python3.8/lib-dynload', '', '/usr/local/miniconda3/lib/python3.8/site-packages']\n"
     ]
    }
   ],
   "source": [
    "import sys\n",
    "print(sys.path)\n",
    "\n",
    "sys.path.append('/hy-tmp/yolo_soybean/ultralytics')"
   ]
  },
  {
   "cell_type": "markdown",
   "metadata": {},
   "source": [
    "## Train"
   ]
  },
  {
   "cell_type": "code",
   "execution_count": 3,
   "metadata": {},
   "outputs": [],
   "source": [
    "from ultralytics import YOLO\n",
    "\n",
    "# Load a model\n",
    "model = YOLO(\"yolov8m.yaml\")  # build a new model from YAML\n",
    "model = YOLO(\"/hy-tmp/yolo_soybean/ckpts/yolov8m.pt\")  # load a pretrained model (recommended for training)\n",
    "# Train the model\n",
    "custom_trainer = partial(CustomTrainer, target_domain_data_cfg=\"/hy-tmp/yolo_soybean/datasets/DA_dataset/outdoor_domain.yaml\")"
   ]
  },
  {
   "cell_type": "code",
   "execution_count": 1,
   "metadata": {},
   "outputs": [],
   "source": [
    "model.train(custom_trainer,data=\"/hy-tmp/yolo_soybean/datasets/DA_dataset/all_domain.yaml\", name='train_soy',patience=350, epochs=350, imgsz=640, batch=4)"
   ]
  },
  {
   "cell_type": "markdown",
   "metadata": {},
   "source": [
    "# Evaluation and inference"
   ]
  },
  {
   "cell_type": "markdown",
   "metadata": {},
   "source": [
    "### Predict seeds"
   ]
  },
  {
   "cell_type": "code",
   "execution_count": 2,
   "metadata": {},
   "outputs": [],
   "source": [
    "from ultralytics import YOLO\n",
    "\n",
    "# Load a model\n",
    "model = YOLO(\"yolov8m.yaml\")  # build a new model from YAML\n",
    "model = YOLO(\"/hy-tmp/yolo_soybean/ckpts/yolo_da.pt\")  # load a pretrained model (recommended for training)"
   ]
  },
  {
   "cell_type": "code",
   "execution_count": 3,
   "metadata": {},
   "outputs": [],
   "source": [
    "def load_labels(label_path):\n",
    "    \"\"\"Load label file and count the number of beans based on class ID.\"\"\"\n",
    "    count_map = {0: 1, 1: 2, 2: 3, 3: 4}  \n",
    "    total_count = 0\n",
    "    with open(label_path, 'r') as f:\n",
    "        lines = f.readlines()\n",
    "        for line in lines:\n",
    "            class_id = int(line.split()[0])\n",
    "            total_count += count_map[class_id]\n",
    "    return total_count\n",
    "\n",
    "\n",
    "def count_beans(predictions):\n",
    "    \"\"\"Count the number of beans in predictions based on class ID.\"\"\"\n",
    "    count_map = {0: 1, 1: 2, 2: 3, 3: 4}  \n",
    "    total_count = 0\n",
    "    for prediction in predictions:\n",
    "        class_id = int(prediction[5])  # column 6:ID\n",
    "        total_count += count_map[class_id]\n",
    "    return total_count"
   ]
  },
  {
   "cell_type": "code",
   "execution_count": null,
   "metadata": {},
   "outputs": [],
   "source": [
    "import glob\n",
    "import os\n",
    "import numpy as np\n",
    "\n",
    "test_images_path = '/hy-tmp/yolo_soybean/datasets/DA_dataset/eval/images'\n",
    "labels_path = '/hy-tmp/yolo_soybean/datasets/DA_dataset/eval/labels'\n",
    "\n",
    "image_paths = glob.glob(os.path.join(test_images_path, '*.*'))\n",
    "\n",
    "errors = []\n",
    "results = []\n",
    "\n",
    "for image_path in image_paths:\n",
    "    image_name = os.path.basename(image_path)\n",
    "    label_name = os.path.splitext(image_name)[0] + '.txt'\n",
    "    label_path = os.path.join(labels_path, label_name)\n",
    "\n",
    "    if not os.path.exists(label_path):\n",
    "        print(f'Label file not found for image {image_name}, skipping...')\n",
    "        continue\n",
    "\n",
    "    true_count = load_labels(label_path)\n",
    "    model_results = model(image_path)\n",
    "\n",
    "    if model_results and len(model_results) > 0:\n",
    "        predictions = model_results[0].boxes.data  \n",
    "        pred_count = count_beans(predictions.cpu().numpy())  \n",
    "    else:\n",
    "        pred_count = 0\n",
    "\n",
    "    error = abs(pred_count - true_count)\n",
    "    errors.append(error)\n",
    "    results.append((image_name, true_count, pred_count, error))\n",
    "\n",
    "# Sort results by error in descending order\n",
    "results.sort(key=lambda x: x[3], reverse=True)\n",
    "\n",
    "# Write results to a file\n",
    "with open('sorted_errors.txt', 'w') as file:\n",
    "    for result in results:\n",
    "        file.write(f'Image: {result[0]}, True Count: {result[1]}, Predicted Count: {result[2]}, Error: {result[3]}\\n')\n",
    "\n",
    "mae = np.mean(errors)\n",
    "print(f'Mean Absolute Error (MAE): {mae}')\n"
   ]
  },
  {
   "cell_type": "markdown",
   "metadata": {},
   "source": [
    "### Predict pods"
   ]
  },
  {
   "cell_type": "code",
   "execution_count": null,
   "metadata": {},
   "outputs": [],
   "source": [
    "def load_labels(label_path):\n",
    "    \"\"\"Load label file and count the number of beans (detection boxes).\"\"\"\n",
    "    with open(label_path, 'r') as f:\n",
    "        lines = f.readlines()\n",
    "    return len(lines)\n",
    "\n",
    "def count_beans(predictions):\n",
    "    \"\"\"Count the number of beans (detection boxes) in predictions.\"\"\"\n",
    "    return len(predictions)\n",
    "\n",
    "import glob\n",
    "import os\n",
    "import numpy as np\n",
    "\n",
    "test_images_path = '/hy-tmp/yolo_soybean/datasets/DA_dataset/eval/images'\n",
    "labels_path = '/hy-tmp/yolo_soybean/datasets/DA_dataset/eval/labels'\n",
    "\n",
    "image_paths = glob.glob(os.path.join(test_images_path, '*.*'))\n",
    "\n",
    "errors = []\n",
    "results = []\n",
    "\n",
    "for image_path in image_paths:\n",
    "    image_name = os.path.basename(image_path)\n",
    "    label_name = os.path.splitext(image_name)[0] + '.txt'\n",
    "    label_path = os.path.join(labels_path, label_name)\n",
    "\n",
    "    if not os.path.exists(label_path):\n",
    "        print(f'Label file not found for image {image_name}, skipping...')\n",
    "        continue\n",
    "\n",
    "    true_count = load_labels(label_path)\n",
    "    model_results = model(image_path)\n",
    "\n",
    "    if model_results and len(model_results) > 0:\n",
    "        predictions = model_results[0].boxes.data  \n",
    "        pred_count = count_beans(predictions.cpu().numpy())  \n",
    "    else:\n",
    "        pred_count = 0\n",
    "\n",
    "    error = abs(pred_count - true_count)\n",
    "    errors.append(error)\n",
    "    results.append((image_name, true_count, pred_count, error))\n",
    "\n",
    "# Sort results by error in descending order\n",
    "results.sort(key=lambda x: x[3], reverse=True)\n",
    "\n",
    "# Write results to a file\n",
    "with open('sorted_errors_pods.txt', 'w') as file:\n",
    "    for result in results:\n",
    "        file.write(f'Image: {result[0]}, True Count: {result[1]}, Predicted Count: {result[2]}, Error: {result[3]}\\n')\n",
    "\n",
    "mae = np.mean(errors)\n",
    "print(f'Mean Absolute Error (MAE): {mae}')"
   ]
  }
 ],
 "metadata": {
  "kernelspec": {
   "display_name": "Python 3 (ipykernel)",
   "language": "python",
   "name": "python3"
  },
  "language_info": {
   "codemirror_mode": {
    "name": "ipython",
    "version": 3
   },
   "file_extension": ".py",
   "mimetype": "text/x-python",
   "name": "python",
   "nbconvert_exporter": "python",
   "pygments_lexer": "ipython3",
   "version": "3.9.12"
  }
 },
 "nbformat": 4,
 "nbformat_minor": 4
}
